{
  "cells": [
    {
      "cell_type": "markdown",
      "id": "b67e7ca5",
      "metadata": {
        "id": "b67e7ca5"
      },
      "source": [
        "#<div dir=\"rtl\" align=center>2.2 - pandas hands-on צעדים ראשונים</div>"
      ]
    },
    {
      "cell_type": "code",
      "execution_count": 1,
      "id": "soSOiFdSrEPX",
      "metadata": {
        "id": "soSOiFdSrEPX"
      },
      "outputs": [],
      "source": [
        "import pandas as pd # video 2.2 t=0:31"
      ]
    },
    {
      "cell_type": "markdown",
      "id": "6DqkuuZsqnA5",
      "metadata": {
        "id": "6DqkuuZsqnA5"
      },
      "source": [
        "טעינת קובץ נתונים"
      ]
    },
    {
      "cell_type": "code",
      "execution_count": 2,
      "id": "UdFvl4-8a9k3",
      "metadata": {
        "id": "UdFvl4-8a9k3"
      },
      "outputs": [],
      "source": [
        "url = 'https://s3.eu-west-1.amazonaws.com/data.cyber.org.il/virtual_courses/introdata/colab/artists.csv'"
      ]
    },
    {
      "cell_type": "code",
      "execution_count": 3,
      "id": "454a46d6",
      "metadata": {
        "id": "454a46d6"
      },
      "outputs": [],
      "source": [
        "artists = pd.read_csv(url) # t=1:19"
      ]
    },
    {
      "cell_type": "code",
      "execution_count": 4,
      "id": "TwFGjP8OsBlN",
      "metadata": {
        "colab": {
          "base_uri": "https://localhost:8080/",
          "height": 206
        },
        "id": "TwFGjP8OsBlN",
        "outputId": "aadd3362-d21c-44de-893b-1f181e30b571"
      },
      "outputs": [
        {
          "data": {
            "text/html": [
              "<div>\n",
              "<style scoped>\n",
              "    .dataframe tbody tr th:only-of-type {\n",
              "        vertical-align: middle;\n",
              "    }\n",
              "\n",
              "    .dataframe tbody tr th {\n",
              "        vertical-align: top;\n",
              "    }\n",
              "\n",
              "    .dataframe thead th {\n",
              "        text-align: right;\n",
              "    }\n",
              "</style>\n",
              "<table border=\"1\" class=\"dataframe\">\n",
              "  <thead>\n",
              "    <tr style=\"text-align: right;\">\n",
              "      <th></th>\n",
              "      <th>id</th>\n",
              "      <th>followers</th>\n",
              "      <th>genres</th>\n",
              "      <th>name</th>\n",
              "      <th>popularity</th>\n",
              "    </tr>\n",
              "  </thead>\n",
              "  <tbody>\n",
              "    <tr>\n",
              "      <th>0</th>\n",
              "      <td>0DheY5irMjBUeLybbCUEZ2</td>\n",
              "      <td>0.0</td>\n",
              "      <td>[]</td>\n",
              "      <td>Armid &amp; Amir Zare Pashai feat. Sara Rouzbehani</td>\n",
              "      <td>0</td>\n",
              "    </tr>\n",
              "    <tr>\n",
              "      <th>1</th>\n",
              "      <td>0DlhY15l3wsrnlfGio2bjU</td>\n",
              "      <td>5.0</td>\n",
              "      <td>[]</td>\n",
              "      <td>ปูนา ภาวิณี</td>\n",
              "      <td>0</td>\n",
              "    </tr>\n",
              "    <tr>\n",
              "      <th>2</th>\n",
              "      <td>0DmRESX2JknGPQyO15yxg7</td>\n",
              "      <td>0.0</td>\n",
              "      <td>[]</td>\n",
              "      <td>Sadaa</td>\n",
              "      <td>0</td>\n",
              "    </tr>\n",
              "    <tr>\n",
              "      <th>3</th>\n",
              "      <td>0DmhnbHjm1qw6NCYPeZNgJ</td>\n",
              "      <td>0.0</td>\n",
              "      <td>[]</td>\n",
              "      <td>Tra'gruda</td>\n",
              "      <td>0</td>\n",
              "    </tr>\n",
              "    <tr>\n",
              "      <th>4</th>\n",
              "      <td>0Dn11fWM7vHQ3rinvWEl4E</td>\n",
              "      <td>2.0</td>\n",
              "      <td>[]</td>\n",
              "      <td>Ioannis Panoutsopoulos</td>\n",
              "      <td>0</td>\n",
              "    </tr>\n",
              "  </tbody>\n",
              "</table>\n",
              "</div>"
            ],
            "text/plain": [
              "                       id  followers genres  \\\n",
              "0  0DheY5irMjBUeLybbCUEZ2        0.0     []   \n",
              "1  0DlhY15l3wsrnlfGio2bjU        5.0     []   \n",
              "2  0DmRESX2JknGPQyO15yxg7        0.0     []   \n",
              "3  0DmhnbHjm1qw6NCYPeZNgJ        0.0     []   \n",
              "4  0Dn11fWM7vHQ3rinvWEl4E        2.0     []   \n",
              "\n",
              "                                             name  popularity  \n",
              "0  Armid & Amir Zare Pashai feat. Sara Rouzbehani           0  \n",
              "1                                     ปูนา ภาวิณี           0  \n",
              "2                                           Sadaa           0  \n",
              "3                                       Tra'gruda           0  \n",
              "4                          Ioannis Panoutsopoulos           0  "
            ]
          },
          "execution_count": 4,
          "metadata": {},
          "output_type": "execute_result"
        }
      ],
      "source": [
        "artists.head() # t=1:43"
      ]
    },
    {
      "cell_type": "code",
      "execution_count": 5,
      "id": "T96l6zpFsWgA",
      "metadata": {
        "colab": {
          "base_uri": "https://localhost:8080/"
        },
        "id": "T96l6zpFsWgA",
        "outputId": "4e7a18c1-dfe9-4581-c34f-8107bfa2933e"
      },
      "outputs": [
        {
          "data": {
            "text/plain": [
              "id             object\n",
              "followers     float64\n",
              "genres         object\n",
              "name           object\n",
              "popularity      int64\n",
              "dtype: object"
            ]
          },
          "execution_count": 5,
          "metadata": {},
          "output_type": "execute_result"
        }
      ],
      "source": [
        "artists.dtypes # t=4:32"
      ]
    },
    {
      "cell_type": "markdown",
      "id": "o1f5CQY1tNRA",
      "metadata": {
        "id": "o1f5CQY1tNRA"
      },
      "source": [
        "#<div dir=\"rtl\" align=center>2.3 - pandas Series</div>"
      ]
    },
    {
      "cell_type": "code",
      "execution_count": 6,
      "id": "LT5jTStzx1sA",
      "metadata": {
        "id": "LT5jTStzx1sA"
      },
      "outputs": [],
      "source": [
        "series_of_numbers = pd.Series([9, 0, 2, 1, 0]) # t=0:45\n",
        "series_of_strings = pd.Series(['this', 'is', 'a', 'Pandas', 'Series'])\n"
      ]
    },
    {
      "cell_type": "code",
      "execution_count": 7,
      "id": "NBJEKv7bzZgF",
      "metadata": {
        "colab": {
          "base_uri": "https://localhost:8080/"
        },
        "id": "NBJEKv7bzZgF",
        "outputId": "d590b944-6ef8-4be5-8825-614ebcd96a53"
      },
      "outputs": [
        {
          "name": "stdout",
          "output_type": "stream",
          "text": [
            "0      this\n",
            "1        is\n",
            "2         a\n",
            "3    Pandas\n",
            "4    Series\n",
            "dtype: object\n"
          ]
        }
      ],
      "source": [
        "print(series_of_strings) # t=1:04"
      ]
    },
    {
      "cell_type": "code",
      "execution_count": 8,
      "id": "aSPqibgDzZUS",
      "metadata": {
        "id": "aSPqibgDzZUS"
      },
      "outputs": [],
      "source": [
        "sorted_series = series_of_strings.sort_values() # t=2:20"
      ]
    },
    {
      "cell_type": "code",
      "execution_count": 9,
      "id": "ViaNAyAyzZFa",
      "metadata": {
        "colab": {
          "base_uri": "https://localhost:8080/"
        },
        "id": "ViaNAyAyzZFa",
        "outputId": "a7c04ab1-123b-4ecc-df33-2ac6afaa4aa9"
      },
      "outputs": [
        {
          "data": {
            "text/plain": [
              "3    Pandas\n",
              "4    Series\n",
              "2         a\n",
              "1        is\n",
              "0      this\n",
              "dtype: object"
            ]
          },
          "execution_count": 9,
          "metadata": {},
          "output_type": "execute_result"
        }
      ],
      "source": [
        "sorted_series # t=2:27"
      ]
    },
    {
      "cell_type": "code",
      "execution_count": 10,
      "id": "VR_AvKV0zxRy",
      "metadata": {
        "colab": {
          "base_uri": "https://localhost:8080/",
          "height": 35
        },
        "id": "VR_AvKV0zxRy",
        "outputId": "0fac23ac-c7fa-4be6-888a-d1f79de88c8c"
      },
      "outputs": [
        {
          "data": {
            "text/plain": [
              "'this'"
            ]
          },
          "execution_count": 10,
          "metadata": {},
          "output_type": "execute_result"
        }
      ],
      "source": [
        "series_of_strings.loc[0] # t=3:52"
      ]
    },
    {
      "cell_type": "code",
      "execution_count": 11,
      "id": "rBqpGhmC0Fab",
      "metadata": {
        "colab": {
          "base_uri": "https://localhost:8080/"
        },
        "id": "rBqpGhmC0Fab",
        "outputId": "7bfd9410-f6de-43f8-d235-cd3cbd44d125"
      },
      "outputs": [
        {
          "name": "stdout",
          "output_type": "stream",
          "text": [
            "0      this\n",
            "1        is\n",
            "2         a\n",
            "3    Pandas\n",
            "4    Series\n",
            "dtype: object\n"
          ]
        }
      ],
      "source": [
        "print(series_of_strings) # t=4:01"
      ]
    },
    {
      "cell_type": "code",
      "execution_count": 12,
      "id": "sACrH5zFzn3K",
      "metadata": {
        "colab": {
          "base_uri": "https://localhost:8080/",
          "height": 35
        },
        "id": "sACrH5zFzn3K",
        "outputId": "3a668922-5674-41d2-a22a-1a407671c5a2"
      },
      "outputs": [
        {
          "data": {
            "text/plain": [
              "'this'"
            ]
          },
          "execution_count": 12,
          "metadata": {},
          "output_type": "execute_result"
        }
      ],
      "source": [
        "sorted_series.loc[0] # t=4:11"
      ]
    },
    {
      "cell_type": "code",
      "execution_count": 13,
      "id": "_PTr-bLD0QTm",
      "metadata": {
        "colab": {
          "base_uri": "https://localhost:8080/"
        },
        "id": "_PTr-bLD0QTm",
        "outputId": "dd7b9c1c-a57b-48af-f0d0-6793fa163df4"
      },
      "outputs": [
        {
          "data": {
            "text/plain": [
              "3    Pandas\n",
              "4    Series\n",
              "2         a\n",
              "1        is\n",
              "0      this\n",
              "dtype: object"
            ]
          },
          "execution_count": 13,
          "metadata": {},
          "output_type": "execute_result"
        }
      ],
      "source": [
        "sorted_series # t=4:11"
      ]
    },
    {
      "cell_type": "code",
      "execution_count": 14,
      "id": "2Rx8TExn0Tzn",
      "metadata": {
        "colab": {
          "base_uri": "https://localhost:8080/",
          "height": 35
        },
        "id": "2Rx8TExn0Tzn",
        "outputId": "dce8c5ee-b34b-4a2b-9914-95faa042c13f"
      },
      "outputs": [
        {
          "data": {
            "text/plain": [
              "'this'"
            ]
          },
          "execution_count": 14,
          "metadata": {},
          "output_type": "execute_result"
        }
      ],
      "source": [
        "series_of_strings.iloc[0] # t=4:32"
      ]
    },
    {
      "cell_type": "code",
      "execution_count": 15,
      "id": "07pAWfNb0Tni",
      "metadata": {
        "colab": {
          "base_uri": "https://localhost:8080/",
          "height": 35
        },
        "id": "07pAWfNb0Tni",
        "outputId": "300166a8-42b6-4553-8b0f-ba02f0ed3eb5"
      },
      "outputs": [
        {
          "data": {
            "text/plain": [
              "'Pandas'"
            ]
          },
          "execution_count": 15,
          "metadata": {},
          "output_type": "execute_result"
        }
      ],
      "source": [
        "sorted_series.iloc[0] # t=4:40"
      ]
    },
    {
      "cell_type": "code",
      "execution_count": 16,
      "id": "ec2BYX-H0jOT",
      "metadata": {
        "colab": {
          "base_uri": "https://localhost:8080/"
        },
        "id": "ec2BYX-H0jOT",
        "outputId": "76193735-2dd9-4983-f028-253a74cc2ded"
      },
      "outputs": [
        {
          "data": {
            "text/plain": [
              "['brown', 'fox', 'jumps', 'over']"
            ]
          },
          "execution_count": 16,
          "metadata": {},
          "output_type": "execute_result"
        }
      ],
      "source": [
        "words = ['The','quick','brown','fox','jumps','over','the','lazy','dogs'] # t=5:10\n",
        "words[2:6]"
      ]
    },
    {
      "cell_type": "code",
      "execution_count": 17,
      "id": "VOBBQWvr0m8T",
      "metadata": {
        "colab": {
          "base_uri": "https://localhost:8080/"
        },
        "id": "VOBBQWvr0m8T",
        "outputId": "411e3ccb-62b7-473a-eedf-6e94df4fbb17"
      },
      "outputs": [
        {
          "data": {
            "text/plain": [
              "0    this\n",
              "1      is\n",
              "2       a\n",
              "dtype: object"
            ]
          },
          "execution_count": 17,
          "metadata": {},
          "output_type": "execute_result"
        }
      ],
      "source": [
        "series_of_strings.iloc[0:3] # t=5:25"
      ]
    },
    {
      "cell_type": "code",
      "execution_count": 18,
      "id": "H9P9UewF0m49",
      "metadata": {
        "id": "H9P9UewF0m49"
      },
      "outputs": [],
      "source": [
        "series_of_strings = pd.Series(['this', 'is', 'a', 'Pandas', 'Series']) # appears on screen, but not typed\n"
      ]
    },
    {
      "cell_type": "code",
      "execution_count": 19,
      "id": "KQ5Pbhi60m1m",
      "metadata": {
        "id": "KQ5Pbhi60m1m"
      },
      "outputs": [],
      "source": [
        "series_of_strings.index = ['First','Second','Third','Fourth','Fifth'] # t=6:06"
      ]
    },
    {
      "cell_type": "code",
      "execution_count": 20,
      "id": "qSPwVy7o0myR",
      "metadata": {
        "colab": {
          "base_uri": "https://localhost:8080/"
        },
        "id": "qSPwVy7o0myR",
        "outputId": "5e08fc85-240f-40c2-e51c-929958c39c53"
      },
      "outputs": [
        {
          "data": {
            "text/plain": [
              "First       this\n",
              "Second        is\n",
              "Third          a\n",
              "Fourth    Pandas\n",
              "Fifth     Series\n",
              "dtype: object"
            ]
          },
          "execution_count": 20,
          "metadata": {},
          "output_type": "execute_result"
        }
      ],
      "source": [
        "series_of_strings # t=6:13"
      ]
    },
    {
      "cell_type": "code",
      "execution_count": 21,
      "id": "gwmOxVtA0muq",
      "metadata": {
        "colab": {
          "base_uri": "https://localhost:8080/",
          "height": 35
        },
        "id": "gwmOxVtA0muq",
        "outputId": "df804002-c6eb-4fa1-b8b1-540f51a00792"
      },
      "outputs": [
        {
          "data": {
            "text/plain": [
              "'is'"
            ]
          },
          "execution_count": 21,
          "metadata": {},
          "output_type": "execute_result"
        }
      ],
      "source": [
        "series_of_strings.loc['Second'] # t=6:22"
      ]
    },
    {
      "cell_type": "markdown",
      "id": "lUuoRnCJ1xm4",
      "metadata": {
        "id": "lUuoRnCJ1xm4"
      },
      "source": [
        "#<div dir=\"rtl\" align=center>2.4 - DataFrame - מיון ושליפה בסיסיים + אינדקסים לוגיים - logical indexing - חלק א</div>"
      ]
    },
    {
      "cell_type": "code",
      "execution_count": 22,
      "id": "9fe4558a",
      "metadata": {
        "id": "9fe4558a"
      },
      "outputs": [],
      "source": [
        "artists_by_popularity = artists.sort_values('popularity') # t=0:52"
      ]
    },
    {
      "cell_type": "code",
      "execution_count": 23,
      "id": "7f6ab26a",
      "metadata": {
        "colab": {
          "base_uri": "https://localhost:8080/",
          "height": 206
        },
        "id": "7f6ab26a",
        "outputId": "0aa9178d-36fe-4bae-98ff-2b49aba282a9"
      },
      "outputs": [
        {
          "data": {
            "text/html": [
              "<div>\n",
              "<style scoped>\n",
              "    .dataframe tbody tr th:only-of-type {\n",
              "        vertical-align: middle;\n",
              "    }\n",
              "\n",
              "    .dataframe tbody tr th {\n",
              "        vertical-align: top;\n",
              "    }\n",
              "\n",
              "    .dataframe thead th {\n",
              "        text-align: right;\n",
              "    }\n",
              "</style>\n",
              "<table border=\"1\" class=\"dataframe\">\n",
              "  <thead>\n",
              "    <tr style=\"text-align: right;\">\n",
              "      <th></th>\n",
              "      <th>id</th>\n",
              "      <th>followers</th>\n",
              "      <th>genres</th>\n",
              "      <th>name</th>\n",
              "      <th>popularity</th>\n",
              "    </tr>\n",
              "  </thead>\n",
              "  <tbody>\n",
              "    <tr>\n",
              "      <th>0</th>\n",
              "      <td>0DheY5irMjBUeLybbCUEZ2</td>\n",
              "      <td>0.0</td>\n",
              "      <td>[]</td>\n",
              "      <td>Armid &amp; Amir Zare Pashai feat. Sara Rouzbehani</td>\n",
              "      <td>0</td>\n",
              "    </tr>\n",
              "    <tr>\n",
              "      <th>619746</th>\n",
              "      <td>0UTYzGcYWWIpeBzLe1z5Pb</td>\n",
              "      <td>17.0</td>\n",
              "      <td>[]</td>\n",
              "      <td>Alternate X-Mas</td>\n",
              "      <td>0</td>\n",
              "    </tr>\n",
              "    <tr>\n",
              "      <th>619747</th>\n",
              "      <td>175neE4EZHIlCg5em2in4g</td>\n",
              "      <td>9.0</td>\n",
              "      <td>[]</td>\n",
              "      <td>Frosty MC</td>\n",
              "      <td>0</td>\n",
              "    </tr>\n",
              "    <tr>\n",
              "      <th>619748</th>\n",
              "      <td>2UI2HxG65gmWEDhOwRhwFT</td>\n",
              "      <td>2.0</td>\n",
              "      <td>[]</td>\n",
              "      <td>Bobby Vale</td>\n",
              "      <td>0</td>\n",
              "    </tr>\n",
              "    <tr>\n",
              "      <th>619749</th>\n",
              "      <td>5GUiDykGFhoetAGI56AGPY</td>\n",
              "      <td>9.0</td>\n",
              "      <td>[]</td>\n",
              "      <td>Villa &amp; Vince</td>\n",
              "      <td>0</td>\n",
              "    </tr>\n",
              "  </tbody>\n",
              "</table>\n",
              "</div>"
            ],
            "text/plain": [
              "                            id  followers genres  \\\n",
              "0       0DheY5irMjBUeLybbCUEZ2        0.0     []   \n",
              "619746  0UTYzGcYWWIpeBzLe1z5Pb       17.0     []   \n",
              "619747  175neE4EZHIlCg5em2in4g        9.0     []   \n",
              "619748  2UI2HxG65gmWEDhOwRhwFT        2.0     []   \n",
              "619749  5GUiDykGFhoetAGI56AGPY        9.0     []   \n",
              "\n",
              "                                                  name  popularity  \n",
              "0       Armid & Amir Zare Pashai feat. Sara Rouzbehani           0  \n",
              "619746                                 Alternate X-Mas           0  \n",
              "619747                                       Frosty MC           0  \n",
              "619748                                      Bobby Vale           0  \n",
              "619749                                   Villa & Vince           0  "
            ]
          },
          "execution_count": 23,
          "metadata": {},
          "output_type": "execute_result"
        }
      ],
      "source": [
        "artists_by_popularity.head() # t=0:55"
      ]
    },
    {
      "cell_type": "code",
      "execution_count": 24,
      "id": "k3PKehuDGiLf",
      "metadata": {
        "colab": {
          "base_uri": "https://localhost:8080/",
          "height": 206
        },
        "id": "k3PKehuDGiLf",
        "outputId": "26ab226c-b524-4591-f94f-71685d355029"
      },
      "outputs": [
        {
          "data": {
            "text/html": [
              "<div>\n",
              "<style scoped>\n",
              "    .dataframe tbody tr th:only-of-type {\n",
              "        vertical-align: middle;\n",
              "    }\n",
              "\n",
              "    .dataframe tbody tr th {\n",
              "        vertical-align: top;\n",
              "    }\n",
              "\n",
              "    .dataframe thead th {\n",
              "        text-align: right;\n",
              "    }\n",
              "</style>\n",
              "<table border=\"1\" class=\"dataframe\">\n",
              "  <thead>\n",
              "    <tr style=\"text-align: right;\">\n",
              "      <th></th>\n",
              "      <th>id</th>\n",
              "      <th>followers</th>\n",
              "      <th>genres</th>\n",
              "      <th>name</th>\n",
              "      <th>popularity</th>\n",
              "    </tr>\n",
              "  </thead>\n",
              "  <tbody>\n",
              "    <tr>\n",
              "      <th>144484</th>\n",
              "      <td>3Nrfpe0tUJi4K4DXYWgMUX</td>\n",
              "      <td>31623813.0</td>\n",
              "      <td>['k-pop', 'k-pop boy group']</td>\n",
              "      <td>BTS</td>\n",
              "      <td>96</td>\n",
              "    </tr>\n",
              "    <tr>\n",
              "      <th>115489</th>\n",
              "      <td>4q3ewBCX7sLwd24euuV69X</td>\n",
              "      <td>32244734.0</td>\n",
              "      <td>['latin', 'reggaeton', 'trap latino']</td>\n",
              "      <td>Bad Bunny</td>\n",
              "      <td>98</td>\n",
              "    </tr>\n",
              "    <tr>\n",
              "      <th>313676</th>\n",
              "      <td>3TVXtAsR1Inumwj472S9r4</td>\n",
              "      <td>54416812.0</td>\n",
              "      <td>['canadian hip hop', 'canadian pop', 'hip hop'...</td>\n",
              "      <td>Drake</td>\n",
              "      <td>98</td>\n",
              "    </tr>\n",
              "    <tr>\n",
              "      <th>126338</th>\n",
              "      <td>06HL4z0CvFAxyc27GXpf02</td>\n",
              "      <td>38869193.0</td>\n",
              "      <td>['pop', 'post-teen pop']</td>\n",
              "      <td>Taylor Swift</td>\n",
              "      <td>98</td>\n",
              "    </tr>\n",
              "    <tr>\n",
              "      <th>144481</th>\n",
              "      <td>1uNFoZAHBGtllmzznpCI3s</td>\n",
              "      <td>44606973.0</td>\n",
              "      <td>['canadian pop', 'pop', 'post-teen pop']</td>\n",
              "      <td>Justin Bieber</td>\n",
              "      <td>100</td>\n",
              "    </tr>\n",
              "  </tbody>\n",
              "</table>\n",
              "</div>"
            ],
            "text/plain": [
              "                            id   followers  \\\n",
              "144484  3Nrfpe0tUJi4K4DXYWgMUX  31623813.0   \n",
              "115489  4q3ewBCX7sLwd24euuV69X  32244734.0   \n",
              "313676  3TVXtAsR1Inumwj472S9r4  54416812.0   \n",
              "126338  06HL4z0CvFAxyc27GXpf02  38869193.0   \n",
              "144481  1uNFoZAHBGtllmzznpCI3s  44606973.0   \n",
              "\n",
              "                                                   genres           name  \\\n",
              "144484                       ['k-pop', 'k-pop boy group']            BTS   \n",
              "115489              ['latin', 'reggaeton', 'trap latino']      Bad Bunny   \n",
              "313676  ['canadian hip hop', 'canadian pop', 'hip hop'...          Drake   \n",
              "126338                           ['pop', 'post-teen pop']   Taylor Swift   \n",
              "144481           ['canadian pop', 'pop', 'post-teen pop']  Justin Bieber   \n",
              "\n",
              "        popularity  \n",
              "144484          96  \n",
              "115489          98  \n",
              "313676          98  \n",
              "126338          98  \n",
              "144481         100  "
            ]
          },
          "execution_count": 24,
          "metadata": {},
          "output_type": "execute_result"
        }
      ],
      "source": [
        "artists_by_popularity.tail() # t=1:21"
      ]
    },
    {
      "cell_type": "code",
      "execution_count": 25,
      "id": "cS3aQxHUGt79",
      "metadata": {
        "id": "cS3aQxHUGt79"
      },
      "outputs": [],
      "source": [
        "artists_by_popularity = artists.sort_values('popularity', ascending=False) # t=1:39"
      ]
    },
    {
      "cell_type": "code",
      "execution_count": 26,
      "id": "Flt4dY73G0jW",
      "metadata": {
        "colab": {
          "base_uri": "https://localhost:8080/",
          "height": 206
        },
        "id": "Flt4dY73G0jW",
        "outputId": "63cd3806-d8be-42b8-b98b-67a8ec4cf103"
      },
      "outputs": [
        {
          "data": {
            "text/html": [
              "<div>\n",
              "<style scoped>\n",
              "    .dataframe tbody tr th:only-of-type {\n",
              "        vertical-align: middle;\n",
              "    }\n",
              "\n",
              "    .dataframe tbody tr th {\n",
              "        vertical-align: top;\n",
              "    }\n",
              "\n",
              "    .dataframe thead th {\n",
              "        text-align: right;\n",
              "    }\n",
              "</style>\n",
              "<table border=\"1\" class=\"dataframe\">\n",
              "  <thead>\n",
              "    <tr style=\"text-align: right;\">\n",
              "      <th></th>\n",
              "      <th>id</th>\n",
              "      <th>followers</th>\n",
              "      <th>genres</th>\n",
              "      <th>name</th>\n",
              "      <th>popularity</th>\n",
              "    </tr>\n",
              "  </thead>\n",
              "  <tbody>\n",
              "    <tr>\n",
              "      <th>144481</th>\n",
              "      <td>1uNFoZAHBGtllmzznpCI3s</td>\n",
              "      <td>44606973.0</td>\n",
              "      <td>['canadian pop', 'pop', 'post-teen pop']</td>\n",
              "      <td>Justin Bieber</td>\n",
              "      <td>100</td>\n",
              "    </tr>\n",
              "    <tr>\n",
              "      <th>115489</th>\n",
              "      <td>4q3ewBCX7sLwd24euuV69X</td>\n",
              "      <td>32244734.0</td>\n",
              "      <td>['latin', 'reggaeton', 'trap latino']</td>\n",
              "      <td>Bad Bunny</td>\n",
              "      <td>98</td>\n",
              "    </tr>\n",
              "    <tr>\n",
              "      <th>126338</th>\n",
              "      <td>06HL4z0CvFAxyc27GXpf02</td>\n",
              "      <td>38869193.0</td>\n",
              "      <td>['pop', 'post-teen pop']</td>\n",
              "      <td>Taylor Swift</td>\n",
              "      <td>98</td>\n",
              "    </tr>\n",
              "    <tr>\n",
              "      <th>313676</th>\n",
              "      <td>3TVXtAsR1Inumwj472S9r4</td>\n",
              "      <td>54416812.0</td>\n",
              "      <td>['canadian hip hop', 'canadian pop', 'hip hop'...</td>\n",
              "      <td>Drake</td>\n",
              "      <td>98</td>\n",
              "    </tr>\n",
              "    <tr>\n",
              "      <th>144484</th>\n",
              "      <td>3Nrfpe0tUJi4K4DXYWgMUX</td>\n",
              "      <td>31623813.0</td>\n",
              "      <td>['k-pop', 'k-pop boy group']</td>\n",
              "      <td>BTS</td>\n",
              "      <td>96</td>\n",
              "    </tr>\n",
              "  </tbody>\n",
              "</table>\n",
              "</div>"
            ],
            "text/plain": [
              "                            id   followers  \\\n",
              "144481  1uNFoZAHBGtllmzznpCI3s  44606973.0   \n",
              "115489  4q3ewBCX7sLwd24euuV69X  32244734.0   \n",
              "126338  06HL4z0CvFAxyc27GXpf02  38869193.0   \n",
              "313676  3TVXtAsR1Inumwj472S9r4  54416812.0   \n",
              "144484  3Nrfpe0tUJi4K4DXYWgMUX  31623813.0   \n",
              "\n",
              "                                                   genres           name  \\\n",
              "144481           ['canadian pop', 'pop', 'post-teen pop']  Justin Bieber   \n",
              "115489              ['latin', 'reggaeton', 'trap latino']      Bad Bunny   \n",
              "126338                           ['pop', 'post-teen pop']   Taylor Swift   \n",
              "313676  ['canadian hip hop', 'canadian pop', 'hip hop'...          Drake   \n",
              "144484                       ['k-pop', 'k-pop boy group']            BTS   \n",
              "\n",
              "        popularity  \n",
              "144481         100  \n",
              "115489          98  \n",
              "126338          98  \n",
              "313676          98  \n",
              "144484          96  "
            ]
          },
          "execution_count": 26,
          "metadata": {},
          "output_type": "execute_result"
        }
      ],
      "source": [
        "artists_by_popularity.head() # t=1:40"
      ]
    },
    {
      "cell_type": "code",
      "execution_count": 27,
      "id": "zSOrjtgKG-iD",
      "metadata": {
        "id": "zSOrjtgKG-iD"
      },
      "outputs": [],
      "source": [
        "artists_by_popularity = artists.sort_values(['popularity', 'followers'], ascending=False) # t=2:14"
      ]
    },
    {
      "cell_type": "code",
      "execution_count": 28,
      "id": "PTfz2aLDHHeS",
      "metadata": {
        "colab": {
          "base_uri": "https://localhost:8080/",
          "height": 206
        },
        "id": "PTfz2aLDHHeS",
        "outputId": "17741e4e-5488-4d07-ec20-fef19392bd73"
      },
      "outputs": [
        {
          "data": {
            "text/html": [
              "<div>\n",
              "<style scoped>\n",
              "    .dataframe tbody tr th:only-of-type {\n",
              "        vertical-align: middle;\n",
              "    }\n",
              "\n",
              "    .dataframe tbody tr th {\n",
              "        vertical-align: top;\n",
              "    }\n",
              "\n",
              "    .dataframe thead th {\n",
              "        text-align: right;\n",
              "    }\n",
              "</style>\n",
              "<table border=\"1\" class=\"dataframe\">\n",
              "  <thead>\n",
              "    <tr style=\"text-align: right;\">\n",
              "      <th></th>\n",
              "      <th>id</th>\n",
              "      <th>followers</th>\n",
              "      <th>genres</th>\n",
              "      <th>name</th>\n",
              "      <th>popularity</th>\n",
              "    </tr>\n",
              "  </thead>\n",
              "  <tbody>\n",
              "    <tr>\n",
              "      <th>144481</th>\n",
              "      <td>1uNFoZAHBGtllmzznpCI3s</td>\n",
              "      <td>44606973.0</td>\n",
              "      <td>['canadian pop', 'pop', 'post-teen pop']</td>\n",
              "      <td>Justin Bieber</td>\n",
              "      <td>100</td>\n",
              "    </tr>\n",
              "    <tr>\n",
              "      <th>313676</th>\n",
              "      <td>3TVXtAsR1Inumwj472S9r4</td>\n",
              "      <td>54416812.0</td>\n",
              "      <td>['canadian hip hop', 'canadian pop', 'hip hop'...</td>\n",
              "      <td>Drake</td>\n",
              "      <td>98</td>\n",
              "    </tr>\n",
              "    <tr>\n",
              "      <th>126338</th>\n",
              "      <td>06HL4z0CvFAxyc27GXpf02</td>\n",
              "      <td>38869193.0</td>\n",
              "      <td>['pop', 'post-teen pop']</td>\n",
              "      <td>Taylor Swift</td>\n",
              "      <td>98</td>\n",
              "    </tr>\n",
              "    <tr>\n",
              "      <th>115489</th>\n",
              "      <td>4q3ewBCX7sLwd24euuV69X</td>\n",
              "      <td>32244734.0</td>\n",
              "      <td>['latin', 'reggaeton', 'trap latino']</td>\n",
              "      <td>Bad Bunny</td>\n",
              "      <td>98</td>\n",
              "    </tr>\n",
              "    <tr>\n",
              "      <th>144484</th>\n",
              "      <td>3Nrfpe0tUJi4K4DXYWgMUX</td>\n",
              "      <td>31623813.0</td>\n",
              "      <td>['k-pop', 'k-pop boy group']</td>\n",
              "      <td>BTS</td>\n",
              "      <td>96</td>\n",
              "    </tr>\n",
              "  </tbody>\n",
              "</table>\n",
              "</div>"
            ],
            "text/plain": [
              "                            id   followers  \\\n",
              "144481  1uNFoZAHBGtllmzznpCI3s  44606973.0   \n",
              "313676  3TVXtAsR1Inumwj472S9r4  54416812.0   \n",
              "126338  06HL4z0CvFAxyc27GXpf02  38869193.0   \n",
              "115489  4q3ewBCX7sLwd24euuV69X  32244734.0   \n",
              "144484  3Nrfpe0tUJi4K4DXYWgMUX  31623813.0   \n",
              "\n",
              "                                                   genres           name  \\\n",
              "144481           ['canadian pop', 'pop', 'post-teen pop']  Justin Bieber   \n",
              "313676  ['canadian hip hop', 'canadian pop', 'hip hop'...          Drake   \n",
              "126338                           ['pop', 'post-teen pop']   Taylor Swift   \n",
              "115489              ['latin', 'reggaeton', 'trap latino']      Bad Bunny   \n",
              "144484                       ['k-pop', 'k-pop boy group']            BTS   \n",
              "\n",
              "        popularity  \n",
              "144481         100  \n",
              "313676          98  \n",
              "126338          98  \n",
              "115489          98  \n",
              "144484          96  "
            ]
          },
          "execution_count": 28,
          "metadata": {},
          "output_type": "execute_result"
        }
      ],
      "source": [
        "artists_by_popularity.head() # t=2:26"
      ]
    },
    {
      "cell_type": "code",
      "execution_count": 29,
      "id": "cf1d14f3",
      "metadata": {
        "colab": {
          "base_uri": "https://localhost:8080/"
        },
        "id": "cf1d14f3",
        "outputId": "fd3a347c-17e6-489e-af01-177ed86922b2"
      },
      "outputs": [
        {
          "data": {
            "text/plain": [
              "id            7iK8PXO48WeuP03g8YR51W\n",
              "followers                  5001808.0\n",
              "genres               ['trap latino']\n",
              "name                     Myke Towers\n",
              "popularity                        95\n",
              "Name: 115491, dtype: object"
            ]
          },
          "execution_count": 29,
          "metadata": {},
          "output_type": "execute_result"
        }
      ],
      "source": [
        "artists_by_popularity.iloc[10,:] # t=3:51"
      ]
    },
    {
      "cell_type": "code",
      "execution_count": 30,
      "id": "0f8f4c9d",
      "metadata": {
        "colab": {
          "base_uri": "https://localhost:8080/",
          "height": 363
        },
        "id": "0f8f4c9d",
        "outputId": "339a1613-3a6d-40da-8887-00d3d16c1a3c"
      },
      "outputs": [
        {
          "data": {
            "text/html": [
              "<div>\n",
              "<style scoped>\n",
              "    .dataframe tbody tr th:only-of-type {\n",
              "        vertical-align: middle;\n",
              "    }\n",
              "\n",
              "    .dataframe tbody tr th {\n",
              "        vertical-align: top;\n",
              "    }\n",
              "\n",
              "    .dataframe thead th {\n",
              "        text-align: right;\n",
              "    }\n",
              "</style>\n",
              "<table border=\"1\" class=\"dataframe\">\n",
              "  <thead>\n",
              "    <tr style=\"text-align: right;\">\n",
              "      <th></th>\n",
              "      <th>id</th>\n",
              "      <th>followers</th>\n",
              "      <th>genres</th>\n",
              "      <th>name</th>\n",
              "      <th>popularity</th>\n",
              "    </tr>\n",
              "  </thead>\n",
              "  <tbody>\n",
              "    <tr>\n",
              "      <th>115491</th>\n",
              "      <td>7iK8PXO48WeuP03g8YR51W</td>\n",
              "      <td>5001808.0</td>\n",
              "      <td>['trap latino']</td>\n",
              "      <td>Myke Towers</td>\n",
              "      <td>95</td>\n",
              "    </tr>\n",
              "    <tr>\n",
              "      <th>144488</th>\n",
              "      <td>7dGJo4pcD2V6oG8kP0tJRR</td>\n",
              "      <td>43747833.0</td>\n",
              "      <td>['detroit hip hop', 'hip hop', 'rap']</td>\n",
              "      <td>Eminem</td>\n",
              "      <td>94</td>\n",
              "    </tr>\n",
              "    <tr>\n",
              "      <th>313813</th>\n",
              "      <td>0Y5tJX1MQlPlqiwlOH1tJY</td>\n",
              "      <td>16118616.0</td>\n",
              "      <td>['rap', 'slap house']</td>\n",
              "      <td>Travis Scott</td>\n",
              "      <td>94</td>\n",
              "    </tr>\n",
              "    <tr>\n",
              "      <th>145802</th>\n",
              "      <td>246dkjvS1zLTtiykXe5h60</td>\n",
              "      <td>32167665.0</td>\n",
              "      <td>['dfw rap', 'melodic rap', 'rap']</td>\n",
              "      <td>Post Malone</td>\n",
              "      <td>93</td>\n",
              "    </tr>\n",
              "    <tr>\n",
              "      <th>144490</th>\n",
              "      <td>0du5cEVh5yTK9QJze8zA0C</td>\n",
              "      <td>29899101.0</td>\n",
              "      <td>['dance pop', 'pop', 'post-teen pop']</td>\n",
              "      <td>Bruno Mars</td>\n",
              "      <td>93</td>\n",
              "    </tr>\n",
              "    <tr>\n",
              "      <th>126409</th>\n",
              "      <td>1i8SpTcr7yvPOmcqrbnVXY</td>\n",
              "      <td>27772492.0</td>\n",
              "      <td>['latin', 'puerto rican pop', 'reggaeton', 'tr...</td>\n",
              "      <td>Ozuna</td>\n",
              "      <td>93</td>\n",
              "    </tr>\n",
              "    <tr>\n",
              "      <th>313701</th>\n",
              "      <td>5f7VJjfbwm532GiveGC0ZK</td>\n",
              "      <td>6789005.0</td>\n",
              "      <td>['atl hip hop', 'atl trap', 'rap', 'trap']</td>\n",
              "      <td>Lil Baby</td>\n",
              "      <td>93</td>\n",
              "    </tr>\n",
              "    <tr>\n",
              "      <th>117022</th>\n",
              "      <td>4r63FhuTkUYltbVAg5TQnk</td>\n",
              "      <td>6485079.0</td>\n",
              "      <td>['north carolina hip hop', 'rap']</td>\n",
              "      <td>DaBaby</td>\n",
              "      <td>93</td>\n",
              "    </tr>\n",
              "    <tr>\n",
              "      <th>144489</th>\n",
              "      <td>1mcTU81TzQhprhouKaTkpq</td>\n",
              "      <td>4438013.0</td>\n",
              "      <td>['puerto rican pop', 'trap latino']</td>\n",
              "      <td>Rauw Alejandro</td>\n",
              "      <td>93</td>\n",
              "    </tr>\n",
              "    <tr>\n",
              "      <th>144138</th>\n",
              "      <td>6eUKZXaKkcviH0Ku9w2n3V</td>\n",
              "      <td>78900234.0</td>\n",
              "      <td>['pop', 'uk pop']</td>\n",
              "      <td>Ed Sheeran</td>\n",
              "      <td>92</td>\n",
              "    </tr>\n",
              "  </tbody>\n",
              "</table>\n",
              "</div>"
            ],
            "text/plain": [
              "                            id   followers  \\\n",
              "115491  7iK8PXO48WeuP03g8YR51W   5001808.0   \n",
              "144488  7dGJo4pcD2V6oG8kP0tJRR  43747833.0   \n",
              "313813  0Y5tJX1MQlPlqiwlOH1tJY  16118616.0   \n",
              "145802  246dkjvS1zLTtiykXe5h60  32167665.0   \n",
              "144490  0du5cEVh5yTK9QJze8zA0C  29899101.0   \n",
              "126409  1i8SpTcr7yvPOmcqrbnVXY  27772492.0   \n",
              "313701  5f7VJjfbwm532GiveGC0ZK   6789005.0   \n",
              "117022  4r63FhuTkUYltbVAg5TQnk   6485079.0   \n",
              "144489  1mcTU81TzQhprhouKaTkpq   4438013.0   \n",
              "144138  6eUKZXaKkcviH0Ku9w2n3V  78900234.0   \n",
              "\n",
              "                                                   genres            name  \\\n",
              "115491                                    ['trap latino']     Myke Towers   \n",
              "144488              ['detroit hip hop', 'hip hop', 'rap']          Eminem   \n",
              "313813                              ['rap', 'slap house']    Travis Scott   \n",
              "145802                  ['dfw rap', 'melodic rap', 'rap']     Post Malone   \n",
              "144490              ['dance pop', 'pop', 'post-teen pop']      Bruno Mars   \n",
              "126409  ['latin', 'puerto rican pop', 'reggaeton', 'tr...           Ozuna   \n",
              "313701         ['atl hip hop', 'atl trap', 'rap', 'trap']        Lil Baby   \n",
              "117022                  ['north carolina hip hop', 'rap']          DaBaby   \n",
              "144489                ['puerto rican pop', 'trap latino']  Rauw Alejandro   \n",
              "144138                                  ['pop', 'uk pop']      Ed Sheeran   \n",
              "\n",
              "        popularity  \n",
              "115491          95  \n",
              "144488          94  \n",
              "313813          94  \n",
              "145802          93  \n",
              "144490          93  \n",
              "126409          93  \n",
              "313701          93  \n",
              "117022          93  \n",
              "144489          93  \n",
              "144138          92  "
            ]
          },
          "execution_count": 30,
          "metadata": {},
          "output_type": "execute_result"
        }
      ],
      "source": [
        "artists_by_popularity.iloc[10:20,:] # t=4:36"
      ]
    },
    {
      "cell_type": "code",
      "execution_count": 31,
      "id": "ed5c18cd",
      "metadata": {
        "colab": {
          "base_uri": "https://localhost:8080/",
          "height": 423
        },
        "id": "ed5c18cd",
        "outputId": "f71150b7-546c-45b1-d8da-94563587a874"
      },
      "outputs": [
        {
          "data": {
            "text/html": [
              "<div>\n",
              "<style scoped>\n",
              "    .dataframe tbody tr th:only-of-type {\n",
              "        vertical-align: middle;\n",
              "    }\n",
              "\n",
              "    .dataframe tbody tr th {\n",
              "        vertical-align: top;\n",
              "    }\n",
              "\n",
              "    .dataframe thead th {\n",
              "        text-align: right;\n",
              "    }\n",
              "</style>\n",
              "<table border=\"1\" class=\"dataframe\">\n",
              "  <thead>\n",
              "    <tr style=\"text-align: right;\">\n",
              "      <th></th>\n",
              "      <th>name</th>\n",
              "      <th>popularity</th>\n",
              "      <th>followers</th>\n",
              "    </tr>\n",
              "  </thead>\n",
              "  <tbody>\n",
              "    <tr>\n",
              "      <th>144481</th>\n",
              "      <td>Justin Bieber</td>\n",
              "      <td>100</td>\n",
              "      <td>44606973.0</td>\n",
              "    </tr>\n",
              "    <tr>\n",
              "      <th>313676</th>\n",
              "      <td>Drake</td>\n",
              "      <td>98</td>\n",
              "      <td>54416812.0</td>\n",
              "    </tr>\n",
              "    <tr>\n",
              "      <th>126338</th>\n",
              "      <td>Taylor Swift</td>\n",
              "      <td>98</td>\n",
              "      <td>38869193.0</td>\n",
              "    </tr>\n",
              "    <tr>\n",
              "      <th>115489</th>\n",
              "      <td>Bad Bunny</td>\n",
              "      <td>98</td>\n",
              "      <td>32244734.0</td>\n",
              "    </tr>\n",
              "    <tr>\n",
              "      <th>144484</th>\n",
              "      <td>BTS</td>\n",
              "      <td>96</td>\n",
              "      <td>31623813.0</td>\n",
              "    </tr>\n",
              "    <tr>\n",
              "      <th>...</th>\n",
              "      <td>...</td>\n",
              "      <td>...</td>\n",
              "      <td>...</td>\n",
              "    </tr>\n",
              "    <tr>\n",
              "      <th>444798</th>\n",
              "      <td>Duck Doja</td>\n",
              "      <td>0</td>\n",
              "      <td>NaN</td>\n",
              "    </tr>\n",
              "    <tr>\n",
              "      <th>446635</th>\n",
              "      <td>Zofa</td>\n",
              "      <td>0</td>\n",
              "      <td>NaN</td>\n",
              "    </tr>\n",
              "    <tr>\n",
              "      <th>446637</th>\n",
              "      <td>Broadband Star</td>\n",
              "      <td>0</td>\n",
              "      <td>NaN</td>\n",
              "    </tr>\n",
              "    <tr>\n",
              "      <th>468527</th>\n",
              "      <td>Miles Davis &amp; Charlie \"Bird\" Parker</td>\n",
              "      <td>0</td>\n",
              "      <td>NaN</td>\n",
              "    </tr>\n",
              "    <tr>\n",
              "      <th>468530</th>\n",
              "      <td>Robert Steven Williams</td>\n",
              "      <td>0</td>\n",
              "      <td>NaN</td>\n",
              "    </tr>\n",
              "  </tbody>\n",
              "</table>\n",
              "<p>1104349 rows × 3 columns</p>\n",
              "</div>"
            ],
            "text/plain": [
              "                                       name  popularity   followers\n",
              "144481                        Justin Bieber         100  44606973.0\n",
              "313676                                Drake          98  54416812.0\n",
              "126338                         Taylor Swift          98  38869193.0\n",
              "115489                            Bad Bunny          98  32244734.0\n",
              "144484                                  BTS          96  31623813.0\n",
              "...                                     ...         ...         ...\n",
              "444798                            Duck Doja           0         NaN\n",
              "446635                                 Zofa           0         NaN\n",
              "446637                       Broadband Star           0         NaN\n",
              "468527  Miles Davis & Charlie \"Bird\" Parker           0         NaN\n",
              "468530               Robert Steven Williams           0         NaN\n",
              "\n",
              "[1104349 rows x 3 columns]"
            ]
          },
          "execution_count": 31,
          "metadata": {},
          "output_type": "execute_result"
        }
      ],
      "source": [
        "artists_by_popularity[['name','popularity','followers']] # t=4:56"
      ]
    },
    {
      "cell_type": "code",
      "execution_count": 32,
      "id": "7ad76292",
      "metadata": {
        "colab": {
          "base_uri": "https://localhost:8080/",
          "height": 423
        },
        "id": "7ad76292",
        "outputId": "5b5628c6-04b9-4814-edc8-67fd6ba538f6"
      },
      "outputs": [
        {
          "data": {
            "text/html": [
              "<div>\n",
              "<style scoped>\n",
              "    .dataframe tbody tr th:only-of-type {\n",
              "        vertical-align: middle;\n",
              "    }\n",
              "\n",
              "    .dataframe tbody tr th {\n",
              "        vertical-align: top;\n",
              "    }\n",
              "\n",
              "    .dataframe thead th {\n",
              "        text-align: right;\n",
              "    }\n",
              "</style>\n",
              "<table border=\"1\" class=\"dataframe\">\n",
              "  <thead>\n",
              "    <tr style=\"text-align: right;\">\n",
              "      <th></th>\n",
              "      <th>name</th>\n",
              "      <th>popularity</th>\n",
              "      <th>followers</th>\n",
              "    </tr>\n",
              "  </thead>\n",
              "  <tbody>\n",
              "    <tr>\n",
              "      <th>144481</th>\n",
              "      <td>Justin Bieber</td>\n",
              "      <td>100</td>\n",
              "      <td>44606973.0</td>\n",
              "    </tr>\n",
              "    <tr>\n",
              "      <th>313676</th>\n",
              "      <td>Drake</td>\n",
              "      <td>98</td>\n",
              "      <td>54416812.0</td>\n",
              "    </tr>\n",
              "    <tr>\n",
              "      <th>126338</th>\n",
              "      <td>Taylor Swift</td>\n",
              "      <td>98</td>\n",
              "      <td>38869193.0</td>\n",
              "    </tr>\n",
              "    <tr>\n",
              "      <th>115489</th>\n",
              "      <td>Bad Bunny</td>\n",
              "      <td>98</td>\n",
              "      <td>32244734.0</td>\n",
              "    </tr>\n",
              "    <tr>\n",
              "      <th>144484</th>\n",
              "      <td>BTS</td>\n",
              "      <td>96</td>\n",
              "      <td>31623813.0</td>\n",
              "    </tr>\n",
              "    <tr>\n",
              "      <th>...</th>\n",
              "      <td>...</td>\n",
              "      <td>...</td>\n",
              "      <td>...</td>\n",
              "    </tr>\n",
              "    <tr>\n",
              "      <th>444798</th>\n",
              "      <td>Duck Doja</td>\n",
              "      <td>0</td>\n",
              "      <td>NaN</td>\n",
              "    </tr>\n",
              "    <tr>\n",
              "      <th>446635</th>\n",
              "      <td>Zofa</td>\n",
              "      <td>0</td>\n",
              "      <td>NaN</td>\n",
              "    </tr>\n",
              "    <tr>\n",
              "      <th>446637</th>\n",
              "      <td>Broadband Star</td>\n",
              "      <td>0</td>\n",
              "      <td>NaN</td>\n",
              "    </tr>\n",
              "    <tr>\n",
              "      <th>468527</th>\n",
              "      <td>Miles Davis &amp; Charlie \"Bird\" Parker</td>\n",
              "      <td>0</td>\n",
              "      <td>NaN</td>\n",
              "    </tr>\n",
              "    <tr>\n",
              "      <th>468530</th>\n",
              "      <td>Robert Steven Williams</td>\n",
              "      <td>0</td>\n",
              "      <td>NaN</td>\n",
              "    </tr>\n",
              "  </tbody>\n",
              "</table>\n",
              "<p>1104349 rows × 3 columns</p>\n",
              "</div>"
            ],
            "text/plain": [
              "                                       name  popularity   followers\n",
              "144481                        Justin Bieber         100  44606973.0\n",
              "313676                                Drake          98  54416812.0\n",
              "126338                         Taylor Swift          98  38869193.0\n",
              "115489                            Bad Bunny          98  32244734.0\n",
              "144484                                  BTS          96  31623813.0\n",
              "...                                     ...         ...         ...\n",
              "444798                            Duck Doja           0         NaN\n",
              "446635                                 Zofa           0         NaN\n",
              "446637                       Broadband Star           0         NaN\n",
              "468527  Miles Davis & Charlie \"Bird\" Parker           0         NaN\n",
              "468530               Robert Steven Williams           0         NaN\n",
              "\n",
              "[1104349 rows x 3 columns]"
            ]
          },
          "execution_count": 32,
          "metadata": {},
          "output_type": "execute_result"
        }
      ],
      "source": [
        "artists_by_popularity.loc[:,['name','popularity','followers']] # t=5:43"
      ]
    },
    {
      "cell_type": "code",
      "execution_count": 33,
      "id": "12e14f4f",
      "metadata": {
        "colab": {
          "base_uri": "https://localhost:8080/"
        },
        "id": "12e14f4f",
        "outputId": "c5689841-bfb2-47a2-bb86-d195d55c00a6"
      },
      "outputs": [
        {
          "data": {
            "text/plain": [
              "Index(['id', 'followers', 'genres', 'name', 'popularity'], dtype='object')"
            ]
          },
          "execution_count": 33,
          "metadata": {},
          "output_type": "execute_result"
        }
      ],
      "source": [
        "artists.columns # t=6:25"
      ]
    },
    {
      "cell_type": "code",
      "execution_count": 34,
      "id": "2ae9e10b",
      "metadata": {
        "colab": {
          "base_uri": "https://localhost:8080/",
          "height": 423
        },
        "id": "2ae9e10b",
        "outputId": "4c425ea7-36b4-44f6-d160-ea4fe6c0527f"
      },
      "outputs": [
        {
          "data": {
            "text/html": [
              "<div>\n",
              "<style scoped>\n",
              "    .dataframe tbody tr th:only-of-type {\n",
              "        vertical-align: middle;\n",
              "    }\n",
              "\n",
              "    .dataframe tbody tr th {\n",
              "        vertical-align: top;\n",
              "    }\n",
              "\n",
              "    .dataframe thead th {\n",
              "        text-align: right;\n",
              "    }\n",
              "</style>\n",
              "<table border=\"1\" class=\"dataframe\">\n",
              "  <thead>\n",
              "    <tr style=\"text-align: right;\">\n",
              "      <th></th>\n",
              "      <th>name</th>\n",
              "      <th>popularity</th>\n",
              "      <th>followers</th>\n",
              "    </tr>\n",
              "  </thead>\n",
              "  <tbody>\n",
              "    <tr>\n",
              "      <th>144481</th>\n",
              "      <td>Justin Bieber</td>\n",
              "      <td>100</td>\n",
              "      <td>44606973.0</td>\n",
              "    </tr>\n",
              "    <tr>\n",
              "      <th>313676</th>\n",
              "      <td>Drake</td>\n",
              "      <td>98</td>\n",
              "      <td>54416812.0</td>\n",
              "    </tr>\n",
              "    <tr>\n",
              "      <th>126338</th>\n",
              "      <td>Taylor Swift</td>\n",
              "      <td>98</td>\n",
              "      <td>38869193.0</td>\n",
              "    </tr>\n",
              "    <tr>\n",
              "      <th>115489</th>\n",
              "      <td>Bad Bunny</td>\n",
              "      <td>98</td>\n",
              "      <td>32244734.0</td>\n",
              "    </tr>\n",
              "    <tr>\n",
              "      <th>144484</th>\n",
              "      <td>BTS</td>\n",
              "      <td>96</td>\n",
              "      <td>31623813.0</td>\n",
              "    </tr>\n",
              "    <tr>\n",
              "      <th>...</th>\n",
              "      <td>...</td>\n",
              "      <td>...</td>\n",
              "      <td>...</td>\n",
              "    </tr>\n",
              "    <tr>\n",
              "      <th>444798</th>\n",
              "      <td>Duck Doja</td>\n",
              "      <td>0</td>\n",
              "      <td>NaN</td>\n",
              "    </tr>\n",
              "    <tr>\n",
              "      <th>446635</th>\n",
              "      <td>Zofa</td>\n",
              "      <td>0</td>\n",
              "      <td>NaN</td>\n",
              "    </tr>\n",
              "    <tr>\n",
              "      <th>446637</th>\n",
              "      <td>Broadband Star</td>\n",
              "      <td>0</td>\n",
              "      <td>NaN</td>\n",
              "    </tr>\n",
              "    <tr>\n",
              "      <th>468527</th>\n",
              "      <td>Miles Davis &amp; Charlie \"Bird\" Parker</td>\n",
              "      <td>0</td>\n",
              "      <td>NaN</td>\n",
              "    </tr>\n",
              "    <tr>\n",
              "      <th>468530</th>\n",
              "      <td>Robert Steven Williams</td>\n",
              "      <td>0</td>\n",
              "      <td>NaN</td>\n",
              "    </tr>\n",
              "  </tbody>\n",
              "</table>\n",
              "<p>1104349 rows × 3 columns</p>\n",
              "</div>"
            ],
            "text/plain": [
              "                                       name  popularity   followers\n",
              "144481                        Justin Bieber         100  44606973.0\n",
              "313676                                Drake          98  54416812.0\n",
              "126338                         Taylor Swift          98  38869193.0\n",
              "115489                            Bad Bunny          98  32244734.0\n",
              "144484                                  BTS          96  31623813.0\n",
              "...                                     ...         ...         ...\n",
              "444798                            Duck Doja           0         NaN\n",
              "446635                                 Zofa           0         NaN\n",
              "446637                       Broadband Star           0         NaN\n",
              "468527  Miles Davis & Charlie \"Bird\" Parker           0         NaN\n",
              "468530               Robert Steven Williams           0         NaN\n",
              "\n",
              "[1104349 rows x 3 columns]"
            ]
          },
          "execution_count": 34,
          "metadata": {},
          "output_type": "execute_result"
        }
      ],
      "source": [
        "artists_by_popularity.iloc[:,[3,4,1]] # t=6:31"
      ]
    },
    {
      "cell_type": "code",
      "execution_count": 35,
      "id": "zdmhZDwXQQlf",
      "metadata": {
        "colab": {
          "base_uri": "https://localhost:8080/",
          "height": 363
        },
        "id": "zdmhZDwXQQlf",
        "outputId": "cb6e2157-097e-48f1-a37a-baef0e0ca5dd"
      },
      "outputs": [
        {
          "data": {
            "text/html": [
              "<div>\n",
              "<style scoped>\n",
              "    .dataframe tbody tr th:only-of-type {\n",
              "        vertical-align: middle;\n",
              "    }\n",
              "\n",
              "    .dataframe tbody tr th {\n",
              "        vertical-align: top;\n",
              "    }\n",
              "\n",
              "    .dataframe thead th {\n",
              "        text-align: right;\n",
              "    }\n",
              "</style>\n",
              "<table border=\"1\" class=\"dataframe\">\n",
              "  <thead>\n",
              "    <tr style=\"text-align: right;\">\n",
              "      <th></th>\n",
              "      <th>name</th>\n",
              "      <th>popularity</th>\n",
              "      <th>followers</th>\n",
              "    </tr>\n",
              "  </thead>\n",
              "  <tbody>\n",
              "    <tr>\n",
              "      <th>115491</th>\n",
              "      <td>Myke Towers</td>\n",
              "      <td>95</td>\n",
              "      <td>5001808.0</td>\n",
              "    </tr>\n",
              "    <tr>\n",
              "      <th>144488</th>\n",
              "      <td>Eminem</td>\n",
              "      <td>94</td>\n",
              "      <td>43747833.0</td>\n",
              "    </tr>\n",
              "    <tr>\n",
              "      <th>313813</th>\n",
              "      <td>Travis Scott</td>\n",
              "      <td>94</td>\n",
              "      <td>16118616.0</td>\n",
              "    </tr>\n",
              "    <tr>\n",
              "      <th>145802</th>\n",
              "      <td>Post Malone</td>\n",
              "      <td>93</td>\n",
              "      <td>32167665.0</td>\n",
              "    </tr>\n",
              "    <tr>\n",
              "      <th>144490</th>\n",
              "      <td>Bruno Mars</td>\n",
              "      <td>93</td>\n",
              "      <td>29899101.0</td>\n",
              "    </tr>\n",
              "    <tr>\n",
              "      <th>126409</th>\n",
              "      <td>Ozuna</td>\n",
              "      <td>93</td>\n",
              "      <td>27772492.0</td>\n",
              "    </tr>\n",
              "    <tr>\n",
              "      <th>313701</th>\n",
              "      <td>Lil Baby</td>\n",
              "      <td>93</td>\n",
              "      <td>6789005.0</td>\n",
              "    </tr>\n",
              "    <tr>\n",
              "      <th>117022</th>\n",
              "      <td>DaBaby</td>\n",
              "      <td>93</td>\n",
              "      <td>6485079.0</td>\n",
              "    </tr>\n",
              "    <tr>\n",
              "      <th>144489</th>\n",
              "      <td>Rauw Alejandro</td>\n",
              "      <td>93</td>\n",
              "      <td>4438013.0</td>\n",
              "    </tr>\n",
              "    <tr>\n",
              "      <th>144138</th>\n",
              "      <td>Ed Sheeran</td>\n",
              "      <td>92</td>\n",
              "      <td>78900234.0</td>\n",
              "    </tr>\n",
              "  </tbody>\n",
              "</table>\n",
              "</div>"
            ],
            "text/plain": [
              "                  name  popularity   followers\n",
              "115491     Myke Towers          95   5001808.0\n",
              "144488          Eminem          94  43747833.0\n",
              "313813    Travis Scott          94  16118616.0\n",
              "145802     Post Malone          93  32167665.0\n",
              "144490      Bruno Mars          93  29899101.0\n",
              "126409           Ozuna          93  27772492.0\n",
              "313701        Lil Baby          93   6789005.0\n",
              "117022          DaBaby          93   6485079.0\n",
              "144489  Rauw Alejandro          93   4438013.0\n",
              "144138      Ed Sheeran          92  78900234.0"
            ]
          },
          "execution_count": 35,
          "metadata": {},
          "output_type": "execute_result"
        }
      ],
      "source": [
        "artists_by_popularity.iloc[10:20,[3,4,1]] # t=6:52"
      ]
    },
    {
      "cell_type": "code",
      "execution_count": 36,
      "id": "eca8f4d6",
      "metadata": {
        "colab": {
          "base_uri": "https://localhost:8080/",
          "height": 363
        },
        "id": "eca8f4d6",
        "outputId": "cc727e47-4784-4980-cec5-db60760e13a8"
      },
      "outputs": [
        {
          "data": {
            "text/html": [
              "<div>\n",
              "<style scoped>\n",
              "    .dataframe tbody tr th:only-of-type {\n",
              "        vertical-align: middle;\n",
              "    }\n",
              "\n",
              "    .dataframe tbody tr th {\n",
              "        vertical-align: top;\n",
              "    }\n",
              "\n",
              "    .dataframe thead th {\n",
              "        text-align: right;\n",
              "    }\n",
              "</style>\n",
              "<table border=\"1\" class=\"dataframe\">\n",
              "  <thead>\n",
              "    <tr style=\"text-align: right;\">\n",
              "      <th></th>\n",
              "      <th>name</th>\n",
              "      <th>popularity</th>\n",
              "      <th>followers</th>\n",
              "    </tr>\n",
              "  </thead>\n",
              "  <tbody>\n",
              "    <tr>\n",
              "      <th>144481</th>\n",
              "      <td>Justin Bieber</td>\n",
              "      <td>100</td>\n",
              "      <td>44606973.0</td>\n",
              "    </tr>\n",
              "    <tr>\n",
              "      <th>313676</th>\n",
              "      <td>Drake</td>\n",
              "      <td>98</td>\n",
              "      <td>54416812.0</td>\n",
              "    </tr>\n",
              "    <tr>\n",
              "      <th>126338</th>\n",
              "      <td>Taylor Swift</td>\n",
              "      <td>98</td>\n",
              "      <td>38869193.0</td>\n",
              "    </tr>\n",
              "    <tr>\n",
              "      <th>115489</th>\n",
              "      <td>Bad Bunny</td>\n",
              "      <td>98</td>\n",
              "      <td>32244734.0</td>\n",
              "    </tr>\n",
              "    <tr>\n",
              "      <th>144484</th>\n",
              "      <td>BTS</td>\n",
              "      <td>96</td>\n",
              "      <td>31623813.0</td>\n",
              "    </tr>\n",
              "    <tr>\n",
              "      <th>144483</th>\n",
              "      <td>The Weeknd</td>\n",
              "      <td>96</td>\n",
              "      <td>31308207.0</td>\n",
              "    </tr>\n",
              "    <tr>\n",
              "      <th>115490</th>\n",
              "      <td>Juice WRLD</td>\n",
              "      <td>96</td>\n",
              "      <td>16996777.0</td>\n",
              "    </tr>\n",
              "    <tr>\n",
              "      <th>144485</th>\n",
              "      <td>Ariana Grande</td>\n",
              "      <td>95</td>\n",
              "      <td>61301006.0</td>\n",
              "    </tr>\n",
              "    <tr>\n",
              "      <th>144486</th>\n",
              "      <td>J Balvin</td>\n",
              "      <td>95</td>\n",
              "      <td>27286822.0</td>\n",
              "    </tr>\n",
              "    <tr>\n",
              "      <th>144487</th>\n",
              "      <td>Dua Lipa</td>\n",
              "      <td>95</td>\n",
              "      <td>24123468.0</td>\n",
              "    </tr>\n",
              "  </tbody>\n",
              "</table>\n",
              "</div>"
            ],
            "text/plain": [
              "                 name  popularity   followers\n",
              "144481  Justin Bieber         100  44606973.0\n",
              "313676          Drake          98  54416812.0\n",
              "126338   Taylor Swift          98  38869193.0\n",
              "115489      Bad Bunny          98  32244734.0\n",
              "144484            BTS          96  31623813.0\n",
              "144483     The Weeknd          96  31308207.0\n",
              "115490     Juice WRLD          96  16996777.0\n",
              "144485  Ariana Grande          95  61301006.0\n",
              "144486       J Balvin          95  27286822.0\n",
              "144487       Dua Lipa          95  24123468.0"
            ]
          },
          "execution_count": 36,
          "metadata": {},
          "output_type": "execute_result"
        }
      ],
      "source": [
        "artists_by_popularity[['name','popularity','followers']].iloc[:10,:] # t=7:13"
      ]
    },
    {
      "cell_type": "markdown",
      "id": "81c9b0e3",
      "metadata": {
        "id": "81c9b0e3"
      },
      "source": [
        "#<div dir=\"rtl\" align=center>2.4 - DataFrame - מיון ושליפה בסיסיים + אינדקסים לוגיים - logical indexing - חלק ב</div>"
      ]
    },
    {
      "cell_type": "markdown",
      "id": "adcFO4gfQeEY",
      "metadata": {
        "id": "adcFO4gfQeEY"
      },
      "source": [
        "<div dir=\"rtl\" lang=\"he\" xml:lang=\"he\">\n",
        "\n",
        "השורה הבאה מייצרת משתנה בשם pop_rock_2000\n",
        "\n",
        "פקודה ה-iloc בוחרת שורות לפי מיקום, כפי שהוסבר ב2.3\n",
        "\n",
        "רשימת השורות שמופיעה נבחרה מראש כדי ללקט את האומנים משנות ה-2000 שמשתתפים בדוגמה זו\n",
        "\n",
        "</div>"
      ]
    },
    {
      "cell_type": "code",
      "execution_count": 37,
      "id": "bff12aaa",
      "metadata": {
        "id": "bff12aaa"
      },
      "outputs": [],
      "source": [
        "pop_rock_2000 = artists_by_popularity[['name','popularity','followers']].iloc[[20,58,120,138,160,446,1265,1517],:] # not typed and not seen onscreen"
      ]
    },
    {
      "cell_type": "code",
      "execution_count": 38,
      "id": "ddeb6dab",
      "metadata": {
        "colab": {
          "base_uri": "https://localhost:8080/",
          "height": 300
        },
        "id": "ddeb6dab",
        "outputId": "e07c7b1d-a6b0-4bd4-f90b-816ce437b4a6"
      },
      "outputs": [
        {
          "data": {
            "text/html": [
              "<div>\n",
              "<style scoped>\n",
              "    .dataframe tbody tr th:only-of-type {\n",
              "        vertical-align: middle;\n",
              "    }\n",
              "\n",
              "    .dataframe tbody tr th {\n",
              "        vertical-align: top;\n",
              "    }\n",
              "\n",
              "    .dataframe thead th {\n",
              "        text-align: right;\n",
              "    }\n",
              "</style>\n",
              "<table border=\"1\" class=\"dataframe\">\n",
              "  <thead>\n",
              "    <tr style=\"text-align: right;\">\n",
              "      <th></th>\n",
              "      <th>name</th>\n",
              "      <th>popularity</th>\n",
              "      <th>followers</th>\n",
              "    </tr>\n",
              "  </thead>\n",
              "  <tbody>\n",
              "    <tr>\n",
              "      <th>313508</th>\n",
              "      <td>Rihanna</td>\n",
              "      <td>92</td>\n",
              "      <td>42244011.0</td>\n",
              "    </tr>\n",
              "    <tr>\n",
              "      <th>182102</th>\n",
              "      <td>Lady Gaga</td>\n",
              "      <td>89</td>\n",
              "      <td>17047864.0</td>\n",
              "    </tr>\n",
              "    <tr>\n",
              "      <th>142378</th>\n",
              "      <td>Black Eyed Peas</td>\n",
              "      <td>86</td>\n",
              "      <td>5594057.0</td>\n",
              "    </tr>\n",
              "    <tr>\n",
              "      <th>143815</th>\n",
              "      <td>50 Cent</td>\n",
              "      <td>85</td>\n",
              "      <td>7036668.0</td>\n",
              "    </tr>\n",
              "    <tr>\n",
              "      <th>143817</th>\n",
              "      <td>Britney Spears</td>\n",
              "      <td>84</td>\n",
              "      <td>8877968.0</td>\n",
              "    </tr>\n",
              "    <tr>\n",
              "      <th>142136</th>\n",
              "      <td>Backstreet Boys</td>\n",
              "      <td>79</td>\n",
              "      <td>3795212.0</td>\n",
              "    </tr>\n",
              "    <tr>\n",
              "      <th>145502</th>\n",
              "      <td>TLC</td>\n",
              "      <td>72</td>\n",
              "      <td>2584449.0</td>\n",
              "    </tr>\n",
              "    <tr>\n",
              "      <th>148875</th>\n",
              "      <td>No Doubt</td>\n",
              "      <td>71</td>\n",
              "      <td>1916973.0</td>\n",
              "    </tr>\n",
              "  </tbody>\n",
              "</table>\n",
              "</div>"
            ],
            "text/plain": [
              "                   name  popularity   followers\n",
              "313508          Rihanna          92  42244011.0\n",
              "182102        Lady Gaga          89  17047864.0\n",
              "142378  Black Eyed Peas          86   5594057.0\n",
              "143815          50 Cent          85   7036668.0\n",
              "143817   Britney Spears          84   8877968.0\n",
              "142136  Backstreet Boys          79   3795212.0\n",
              "145502              TLC          72   2584449.0\n",
              "148875         No Doubt          71   1916973.0"
            ]
          },
          "execution_count": 38,
          "metadata": {},
          "output_type": "execute_result"
        }
      ],
      "source": [
        "pop_rock_2000"
      ]
    },
    {
      "cell_type": "code",
      "execution_count": 39,
      "id": "df9a131a",
      "metadata": {
        "colab": {
          "base_uri": "https://localhost:8080/"
        },
        "id": "df9a131a",
        "outputId": "e42ec6ac-325d-43c1-a281-9b9c1924a600"
      },
      "outputs": [
        {
          "data": {
            "text/plain": [
              "313508    False\n",
              "182102    False\n",
              "142378     True\n",
              "143815    False\n",
              "143817    False\n",
              "142136    False\n",
              "145502    False\n",
              "148875    False\n",
              "Name: name, dtype: bool"
            ]
          },
          "execution_count": 39,
          "metadata": {},
          "output_type": "execute_result"
        }
      ],
      "source": [
        "pop_rock_2000['name']=='Black Eyed Peas' # t=1:06"
      ]
    },
    {
      "cell_type": "code",
      "execution_count": 40,
      "id": "fc2572f4",
      "metadata": {
        "colab": {
          "base_uri": "https://localhost:8080/",
          "height": 80
        },
        "id": "fc2572f4",
        "outputId": "56c09db4-3415-4af6-c75b-ace9117f02cf"
      },
      "outputs": [
        {
          "data": {
            "text/html": [
              "<div>\n",
              "<style scoped>\n",
              "    .dataframe tbody tr th:only-of-type {\n",
              "        vertical-align: middle;\n",
              "    }\n",
              "\n",
              "    .dataframe tbody tr th {\n",
              "        vertical-align: top;\n",
              "    }\n",
              "\n",
              "    .dataframe thead th {\n",
              "        text-align: right;\n",
              "    }\n",
              "</style>\n",
              "<table border=\"1\" class=\"dataframe\">\n",
              "  <thead>\n",
              "    <tr style=\"text-align: right;\">\n",
              "      <th></th>\n",
              "      <th>name</th>\n",
              "      <th>popularity</th>\n",
              "      <th>followers</th>\n",
              "    </tr>\n",
              "  </thead>\n",
              "  <tbody>\n",
              "    <tr>\n",
              "      <th>142378</th>\n",
              "      <td>Black Eyed Peas</td>\n",
              "      <td>86</td>\n",
              "      <td>5594057.0</td>\n",
              "    </tr>\n",
              "  </tbody>\n",
              "</table>\n",
              "</div>"
            ],
            "text/plain": [
              "                   name  popularity  followers\n",
              "142378  Black Eyed Peas          86  5594057.0"
            ]
          },
          "execution_count": 40,
          "metadata": {},
          "output_type": "execute_result"
        }
      ],
      "source": [
        "pop_rock_2000.loc[pop_rock_2000['name']=='Black Eyed Peas',:] # t=1:43"
      ]
    },
    {
      "cell_type": "code",
      "execution_count": 41,
      "id": "556b7433",
      "metadata": {
        "colab": {
          "base_uri": "https://localhost:8080/",
          "height": 80
        },
        "id": "556b7433",
        "outputId": "faf79d6c-ceaf-4c52-a776-d73f433fb203"
      },
      "outputs": [
        {
          "data": {
            "text/html": [
              "<div>\n",
              "<style scoped>\n",
              "    .dataframe tbody tr th:only-of-type {\n",
              "        vertical-align: middle;\n",
              "    }\n",
              "\n",
              "    .dataframe tbody tr th {\n",
              "        vertical-align: top;\n",
              "    }\n",
              "\n",
              "    .dataframe thead th {\n",
              "        text-align: right;\n",
              "    }\n",
              "</style>\n",
              "<table border=\"1\" class=\"dataframe\">\n",
              "  <thead>\n",
              "    <tr style=\"text-align: right;\">\n",
              "      <th></th>\n",
              "      <th>id</th>\n",
              "      <th>followers</th>\n",
              "      <th>genres</th>\n",
              "      <th>name</th>\n",
              "      <th>popularity</th>\n",
              "    </tr>\n",
              "  </thead>\n",
              "  <tbody>\n",
              "    <tr>\n",
              "      <th>82150</th>\n",
              "      <td>7iE2GZiF0xVFzlA2E93m3g</td>\n",
              "      <td>106065.0</td>\n",
              "      <td>['classic israeli pop', 'israeli rock']</td>\n",
              "      <td>Mashina</td>\n",
              "      <td>46</td>\n",
              "    </tr>\n",
              "  </tbody>\n",
              "</table>\n",
              "</div>"
            ],
            "text/plain": [
              "                           id  followers  \\\n",
              "82150  7iE2GZiF0xVFzlA2E93m3g   106065.0   \n",
              "\n",
              "                                        genres     name  popularity  \n",
              "82150  ['classic israeli pop', 'israeli rock']  Mashina          46  "
            ]
          },
          "execution_count": 41,
          "metadata": {},
          "output_type": "execute_result"
        }
      ],
      "source": [
        "artists_by_popularity.loc[artists_by_popularity['name']=='Mashina',:]   # t=2:20"
      ]
    },
    {
      "cell_type": "code",
      "execution_count": 42,
      "id": "3204d193",
      "metadata": {
        "colab": {
          "base_uri": "https://localhost:8080/",
          "height": 175
        },
        "id": "3204d193",
        "outputId": "3ab7e652-b037-4ee2-e249-2cc847d12368"
      },
      "outputs": [
        {
          "data": {
            "text/html": [
              "<div>\n",
              "<style scoped>\n",
              "    .dataframe tbody tr th:only-of-type {\n",
              "        vertical-align: middle;\n",
              "    }\n",
              "\n",
              "    .dataframe tbody tr th {\n",
              "        vertical-align: top;\n",
              "    }\n",
              "\n",
              "    .dataframe thead th {\n",
              "        text-align: right;\n",
              "    }\n",
              "</style>\n",
              "<table border=\"1\" class=\"dataframe\">\n",
              "  <thead>\n",
              "    <tr style=\"text-align: right;\">\n",
              "      <th></th>\n",
              "      <th>name</th>\n",
              "      <th>popularity</th>\n",
              "      <th>followers</th>\n",
              "    </tr>\n",
              "  </thead>\n",
              "  <tbody>\n",
              "    <tr>\n",
              "      <th>313508</th>\n",
              "      <td>Rihanna</td>\n",
              "      <td>92</td>\n",
              "      <td>42244011.0</td>\n",
              "    </tr>\n",
              "    <tr>\n",
              "      <th>182102</th>\n",
              "      <td>Lady Gaga</td>\n",
              "      <td>89</td>\n",
              "      <td>17047864.0</td>\n",
              "    </tr>\n",
              "    <tr>\n",
              "      <th>143815</th>\n",
              "      <td>50 Cent</td>\n",
              "      <td>85</td>\n",
              "      <td>7036668.0</td>\n",
              "    </tr>\n",
              "    <tr>\n",
              "      <th>143817</th>\n",
              "      <td>Britney Spears</td>\n",
              "      <td>84</td>\n",
              "      <td>8877968.0</td>\n",
              "    </tr>\n",
              "  </tbody>\n",
              "</table>\n",
              "</div>"
            ],
            "text/plain": [
              "                  name  popularity   followers\n",
              "313508         Rihanna          92  42244011.0\n",
              "182102       Lady Gaga          89  17047864.0\n",
              "143815         50 Cent          85   7036668.0\n",
              "143817  Britney Spears          84   8877968.0"
            ]
          },
          "execution_count": 42,
          "metadata": {},
          "output_type": "execute_result"
        }
      ],
      "source": [
        "pop_rock_2000.loc[pop_rock_2000['followers'] > 7000000,:] # t=3:19"
      ]
    },
    {
      "cell_type": "code",
      "execution_count": 43,
      "id": "s4ZDfwZCxsYD",
      "metadata": {
        "id": "s4ZDfwZCxsYD"
      },
      "outputs": [],
      "source": [
        "artists_new_index = artists_by_popularity.reset_index(drop=True) # t=3:52"
      ]
    },
    {
      "cell_type": "code",
      "execution_count": 44,
      "id": "nMdQAd3qzZvA",
      "metadata": {
        "colab": {
          "base_uri": "https://localhost:8080/",
          "height": 206
        },
        "id": "nMdQAd3qzZvA",
        "outputId": "dca5e218-8f60-4d22-ad62-6b437a46ea52"
      },
      "outputs": [
        {
          "data": {
            "text/html": [
              "<div>\n",
              "<style scoped>\n",
              "    .dataframe tbody tr th:only-of-type {\n",
              "        vertical-align: middle;\n",
              "    }\n",
              "\n",
              "    .dataframe tbody tr th {\n",
              "        vertical-align: top;\n",
              "    }\n",
              "\n",
              "    .dataframe thead th {\n",
              "        text-align: right;\n",
              "    }\n",
              "</style>\n",
              "<table border=\"1\" class=\"dataframe\">\n",
              "  <thead>\n",
              "    <tr style=\"text-align: right;\">\n",
              "      <th></th>\n",
              "      <th>id</th>\n",
              "      <th>followers</th>\n",
              "      <th>genres</th>\n",
              "      <th>name</th>\n",
              "      <th>popularity</th>\n",
              "    </tr>\n",
              "  </thead>\n",
              "  <tbody>\n",
              "    <tr>\n",
              "      <th>0</th>\n",
              "      <td>1uNFoZAHBGtllmzznpCI3s</td>\n",
              "      <td>44606973.0</td>\n",
              "      <td>['canadian pop', 'pop', 'post-teen pop']</td>\n",
              "      <td>Justin Bieber</td>\n",
              "      <td>100</td>\n",
              "    </tr>\n",
              "    <tr>\n",
              "      <th>1</th>\n",
              "      <td>3TVXtAsR1Inumwj472S9r4</td>\n",
              "      <td>54416812.0</td>\n",
              "      <td>['canadian hip hop', 'canadian pop', 'hip hop'...</td>\n",
              "      <td>Drake</td>\n",
              "      <td>98</td>\n",
              "    </tr>\n",
              "    <tr>\n",
              "      <th>2</th>\n",
              "      <td>06HL4z0CvFAxyc27GXpf02</td>\n",
              "      <td>38869193.0</td>\n",
              "      <td>['pop', 'post-teen pop']</td>\n",
              "      <td>Taylor Swift</td>\n",
              "      <td>98</td>\n",
              "    </tr>\n",
              "    <tr>\n",
              "      <th>3</th>\n",
              "      <td>4q3ewBCX7sLwd24euuV69X</td>\n",
              "      <td>32244734.0</td>\n",
              "      <td>['latin', 'reggaeton', 'trap latino']</td>\n",
              "      <td>Bad Bunny</td>\n",
              "      <td>98</td>\n",
              "    </tr>\n",
              "    <tr>\n",
              "      <th>4</th>\n",
              "      <td>3Nrfpe0tUJi4K4DXYWgMUX</td>\n",
              "      <td>31623813.0</td>\n",
              "      <td>['k-pop', 'k-pop boy group']</td>\n",
              "      <td>BTS</td>\n",
              "      <td>96</td>\n",
              "    </tr>\n",
              "  </tbody>\n",
              "</table>\n",
              "</div>"
            ],
            "text/plain": [
              "                       id   followers  \\\n",
              "0  1uNFoZAHBGtllmzznpCI3s  44606973.0   \n",
              "1  3TVXtAsR1Inumwj472S9r4  54416812.0   \n",
              "2  06HL4z0CvFAxyc27GXpf02  38869193.0   \n",
              "3  4q3ewBCX7sLwd24euuV69X  32244734.0   \n",
              "4  3Nrfpe0tUJi4K4DXYWgMUX  31623813.0   \n",
              "\n",
              "                                              genres           name  \\\n",
              "0           ['canadian pop', 'pop', 'post-teen pop']  Justin Bieber   \n",
              "1  ['canadian hip hop', 'canadian pop', 'hip hop'...          Drake   \n",
              "2                           ['pop', 'post-teen pop']   Taylor Swift   \n",
              "3              ['latin', 'reggaeton', 'trap latino']      Bad Bunny   \n",
              "4                       ['k-pop', 'k-pop boy group']            BTS   \n",
              "\n",
              "   popularity  \n",
              "0         100  \n",
              "1          98  \n",
              "2          98  \n",
              "3          98  \n",
              "4          96  "
            ]
          },
          "execution_count": 44,
          "metadata": {},
          "output_type": "execute_result"
        }
      ],
      "source": [
        "artists_new_index.head() # t=4:07"
      ]
    },
    {
      "cell_type": "code",
      "execution_count": 45,
      "id": "59GkNhtnyusb",
      "metadata": {
        "colab": {
          "base_uri": "https://localhost:8080/",
          "height": 80
        },
        "id": "59GkNhtnyusb",
        "outputId": "cb2e9917-b13d-4025-8bed-8a173bdf51fd"
      },
      "outputs": [
        {
          "data": {
            "text/html": [
              "<div>\n",
              "<style scoped>\n",
              "    .dataframe tbody tr th:only-of-type {\n",
              "        vertical-align: middle;\n",
              "    }\n",
              "\n",
              "    .dataframe tbody tr th {\n",
              "        vertical-align: top;\n",
              "    }\n",
              "\n",
              "    .dataframe thead th {\n",
              "        text-align: right;\n",
              "    }\n",
              "</style>\n",
              "<table border=\"1\" class=\"dataframe\">\n",
              "  <thead>\n",
              "    <tr style=\"text-align: right;\">\n",
              "      <th></th>\n",
              "      <th>id</th>\n",
              "      <th>followers</th>\n",
              "      <th>genres</th>\n",
              "      <th>name</th>\n",
              "      <th>popularity</th>\n",
              "    </tr>\n",
              "  </thead>\n",
              "  <tbody>\n",
              "    <tr>\n",
              "      <th>30760</th>\n",
              "      <td>7iE2GZiF0xVFzlA2E93m3g</td>\n",
              "      <td>106065.0</td>\n",
              "      <td>['classic israeli pop', 'israeli rock']</td>\n",
              "      <td>Mashina</td>\n",
              "      <td>46</td>\n",
              "    </tr>\n",
              "  </tbody>\n",
              "</table>\n",
              "</div>"
            ],
            "text/plain": [
              "                           id  followers  \\\n",
              "30760  7iE2GZiF0xVFzlA2E93m3g   106065.0   \n",
              "\n",
              "                                        genres     name  popularity  \n",
              "30760  ['classic israeli pop', 'israeli rock']  Mashina          46  "
            ]
          },
          "execution_count": 45,
          "metadata": {},
          "output_type": "execute_result"
        }
      ],
      "source": [
        "artists_new_index.loc[artists_new_index['name']=='Mashina',:] # t=4:13"
      ]
    },
    {
      "cell_type": "code",
      "execution_count": 46,
      "id": "6e8a8887",
      "metadata": {
        "colab": {
          "base_uri": "https://localhost:8080/"
        },
        "id": "6e8a8887",
        "outputId": "d6a87b3d-43a6-42eb-9731-b7015b602328"
      },
      "outputs": [
        {
          "data": {
            "text/plain": [
              "1104349"
            ]
          },
          "execution_count": 46,
          "metadata": {},
          "output_type": "execute_result"
        }
      ],
      "source": [
        "len(artists) # t=4:52"
      ]
    },
    {
      "cell_type": "code",
      "execution_count": 47,
      "id": "06af2ad0",
      "metadata": {
        "colab": {
          "base_uri": "https://localhost:8080/"
        },
        "id": "06af2ad0",
        "outputId": "040d60ff-dfa6-4e07-893f-887a1b5eed85",
        "scrolled": true
      },
      "outputs": [
        {
          "data": {
            "text/plain": [
              "(1104349, 5)"
            ]
          },
          "execution_count": 47,
          "metadata": {},
          "output_type": "execute_result"
        }
      ],
      "source": [
        "artists.shape # t=5:02"
      ]
    },
    {
      "cell_type": "code",
      "execution_count": 48,
      "id": "UeoKZCBTzqg7",
      "metadata": {
        "colab": {
          "base_uri": "https://localhost:8080/",
          "height": 423
        },
        "id": "UeoKZCBTzqg7",
        "outputId": "cd686c37-d3df-46f1-ff70-0b662cc4c0a6"
      },
      "outputs": [
        {
          "data": {
            "text/html": [
              "<div>\n",
              "<style scoped>\n",
              "    .dataframe tbody tr th:only-of-type {\n",
              "        vertical-align: middle;\n",
              "    }\n",
              "\n",
              "    .dataframe tbody tr th {\n",
              "        vertical-align: top;\n",
              "    }\n",
              "\n",
              "    .dataframe thead th {\n",
              "        text-align: right;\n",
              "    }\n",
              "</style>\n",
              "<table border=\"1\" class=\"dataframe\">\n",
              "  <thead>\n",
              "    <tr style=\"text-align: right;\">\n",
              "      <th></th>\n",
              "      <th>id</th>\n",
              "      <th>followers</th>\n",
              "      <th>genres</th>\n",
              "      <th>name</th>\n",
              "      <th>popularity</th>\n",
              "    </tr>\n",
              "  </thead>\n",
              "  <tbody>\n",
              "    <tr>\n",
              "      <th>30546</th>\n",
              "      <td>6nAVJkZZ55jorZmO5bpezv</td>\n",
              "      <td>1324958.0</td>\n",
              "      <td>['classic bollywood', 'desi pop', 'filmi', 'mo...</td>\n",
              "      <td>Falguni Pathak</td>\n",
              "      <td>46</td>\n",
              "    </tr>\n",
              "    <tr>\n",
              "      <th>30547</th>\n",
              "      <td>6tdM5Njlln7nWkonCppW0u</td>\n",
              "      <td>746049.0</td>\n",
              "      <td>['brega funk', 'funk carioca']</td>\n",
              "      <td>MC Loma e As Gêmeas Lacração</td>\n",
              "      <td>46</td>\n",
              "    </tr>\n",
              "    <tr>\n",
              "      <th>30548</th>\n",
              "      <td>0IpLJsvZHA1op1pw8GAoPu</td>\n",
              "      <td>650153.0</td>\n",
              "      <td>['funk carioca', 'funk das antigas', 'funk pop']</td>\n",
              "      <td>Valesca Popozuda</td>\n",
              "      <td>46</td>\n",
              "    </tr>\n",
              "    <tr>\n",
              "      <th>30549</th>\n",
              "      <td>6czdbISBoxGckbBX8F4m8L</td>\n",
              "      <td>625882.0</td>\n",
              "      <td>['social media pop', 'teen pop']</td>\n",
              "      <td>Jacob Sartorius</td>\n",
              "      <td>46</td>\n",
              "    </tr>\n",
              "    <tr>\n",
              "      <th>30550</th>\n",
              "      <td>42E0oXQahsY72WmOvs4rl4</td>\n",
              "      <td>552870.0</td>\n",
              "      <td>['trap queen']</td>\n",
              "      <td>Chyna Cymone</td>\n",
              "      <td>46</td>\n",
              "    </tr>\n",
              "    <tr>\n",
              "      <th>...</th>\n",
              "      <td>...</td>\n",
              "      <td>...</td>\n",
              "      <td>...</td>\n",
              "      <td>...</td>\n",
              "      <td>...</td>\n",
              "    </tr>\n",
              "    <tr>\n",
              "      <th>33517</th>\n",
              "      <td>3Y4FNEIT10xASCqCbeE5d8</td>\n",
              "      <td>1.0</td>\n",
              "      <td>[]</td>\n",
              "      <td>Sabine Menne</td>\n",
              "      <td>46</td>\n",
              "    </tr>\n",
              "    <tr>\n",
              "      <th>33518</th>\n",
              "      <td>0oi41A3WnpwtHeRIctpGNV</td>\n",
              "      <td>1.0</td>\n",
              "      <td>['instrumental lullaby']</td>\n",
              "      <td>Titus S.</td>\n",
              "      <td>46</td>\n",
              "    </tr>\n",
              "    <tr>\n",
              "      <th>33519</th>\n",
              "      <td>61kJqNFjhdMuefJiY9YjHq</td>\n",
              "      <td>0.0</td>\n",
              "      <td>[]</td>\n",
              "      <td>Tristan Brugmann</td>\n",
              "      <td>46</td>\n",
              "    </tr>\n",
              "    <tr>\n",
              "      <th>33520</th>\n",
              "      <td>28ZhWuvsKE0P8R7AqrRFRk</td>\n",
              "      <td>0.0</td>\n",
              "      <td>[]</td>\n",
              "      <td>Amiya Jarvis999</td>\n",
              "      <td>46</td>\n",
              "    </tr>\n",
              "    <tr>\n",
              "      <th>33521</th>\n",
              "      <td>3KXZ9h0J2Yxa6V4Su1OdfD</td>\n",
              "      <td>0.0</td>\n",
              "      <td>[]</td>\n",
              "      <td>Reent Reins</td>\n",
              "      <td>46</td>\n",
              "    </tr>\n",
              "  </tbody>\n",
              "</table>\n",
              "<p>2976 rows × 5 columns</p>\n",
              "</div>"
            ],
            "text/plain": [
              "                           id  followers  \\\n",
              "30546  6nAVJkZZ55jorZmO5bpezv  1324958.0   \n",
              "30547  6tdM5Njlln7nWkonCppW0u   746049.0   \n",
              "30548  0IpLJsvZHA1op1pw8GAoPu   650153.0   \n",
              "30549  6czdbISBoxGckbBX8F4m8L   625882.0   \n",
              "30550  42E0oXQahsY72WmOvs4rl4   552870.0   \n",
              "...                       ...        ...   \n",
              "33517  3Y4FNEIT10xASCqCbeE5d8        1.0   \n",
              "33518  0oi41A3WnpwtHeRIctpGNV        1.0   \n",
              "33519  61kJqNFjhdMuefJiY9YjHq        0.0   \n",
              "33520  28ZhWuvsKE0P8R7AqrRFRk        0.0   \n",
              "33521  3KXZ9h0J2Yxa6V4Su1OdfD        0.0   \n",
              "\n",
              "                                                  genres  \\\n",
              "30546  ['classic bollywood', 'desi pop', 'filmi', 'mo...   \n",
              "30547                     ['brega funk', 'funk carioca']   \n",
              "30548   ['funk carioca', 'funk das antigas', 'funk pop']   \n",
              "30549                   ['social media pop', 'teen pop']   \n",
              "30550                                     ['trap queen']   \n",
              "...                                                  ...   \n",
              "33517                                                 []   \n",
              "33518                           ['instrumental lullaby']   \n",
              "33519                                                 []   \n",
              "33520                                                 []   \n",
              "33521                                                 []   \n",
              "\n",
              "                               name  popularity  \n",
              "30546                Falguni Pathak          46  \n",
              "30547  MC Loma e As Gêmeas Lacração          46  \n",
              "30548              Valesca Popozuda          46  \n",
              "30549               Jacob Sartorius          46  \n",
              "30550                  Chyna Cymone          46  \n",
              "...                             ...         ...  \n",
              "33517                  Sabine Menne          46  \n",
              "33518                      Titus S.          46  \n",
              "33519              Tristan Brugmann          46  \n",
              "33520               Amiya Jarvis999          46  \n",
              "33521                   Reent Reins          46  \n",
              "\n",
              "[2976 rows x 5 columns]"
            ]
          },
          "execution_count": 48,
          "metadata": {},
          "output_type": "execute_result"
        }
      ],
      "source": [
        "artists_new_index.loc[artists_new_index['popularity']==46,:] # t=5:36"
      ]
    },
    {
      "cell_type": "code",
      "execution_count": 49,
      "id": "TJy9w85163zy",
      "metadata": {
        "colab": {
          "base_uri": "https://localhost:8080/",
          "height": 80
        },
        "id": "TJy9w85163zy",
        "outputId": "342743d4-b8aa-4b45-dcfb-ba591256fef7"
      },
      "outputs": [
        {
          "data": {
            "text/html": [
              "<div>\n",
              "<style scoped>\n",
              "    .dataframe tbody tr th:only-of-type {\n",
              "        vertical-align: middle;\n",
              "    }\n",
              "\n",
              "    .dataframe tbody tr th {\n",
              "        vertical-align: top;\n",
              "    }\n",
              "\n",
              "    .dataframe thead th {\n",
              "        text-align: right;\n",
              "    }\n",
              "</style>\n",
              "<table border=\"1\" class=\"dataframe\">\n",
              "  <thead>\n",
              "    <tr style=\"text-align: right;\">\n",
              "      <th></th>\n",
              "      <th>id</th>\n",
              "      <th>followers</th>\n",
              "      <th>genres</th>\n",
              "      <th>name</th>\n",
              "      <th>popularity</th>\n",
              "    </tr>\n",
              "  </thead>\n",
              "  <tbody>\n",
              "    <tr>\n",
              "      <th>30760</th>\n",
              "      <td>7iE2GZiF0xVFzlA2E93m3g</td>\n",
              "      <td>106065.0</td>\n",
              "      <td>['classic israeli pop', 'israeli rock']</td>\n",
              "      <td>Mashina</td>\n",
              "      <td>46</td>\n",
              "    </tr>\n",
              "  </tbody>\n",
              "</table>\n",
              "</div>"
            ],
            "text/plain": [
              "                           id  followers  \\\n",
              "30760  7iE2GZiF0xVFzlA2E93m3g   106065.0   \n",
              "\n",
              "                                        genres     name  popularity  \n",
              "30760  ['classic israeli pop', 'israeli rock']  Mashina          46  "
            ]
          },
          "execution_count": 49,
          "metadata": {},
          "output_type": "execute_result"
        }
      ],
      "source": [
        "artists_new_index.loc[\n",
        "                      (artists_new_index['popularity']==46) &\n",
        "                      (artists_new_index['followers']==106065)] # t=6:22"
      ]
    },
    {
      "cell_type": "code",
      "execution_count": 50,
      "id": "aTsrxpWOz1GP",
      "metadata": {
        "colab": {
          "base_uri": "https://localhost:8080/",
          "height": 206
        },
        "id": "aTsrxpWOz1GP",
        "outputId": "507fb72b-96b7-4348-c363-fb477b9a26ec"
      },
      "outputs": [
        {
          "data": {
            "text/html": [
              "<div>\n",
              "<style scoped>\n",
              "    .dataframe tbody tr th:only-of-type {\n",
              "        vertical-align: middle;\n",
              "    }\n",
              "\n",
              "    .dataframe tbody tr th {\n",
              "        vertical-align: top;\n",
              "    }\n",
              "\n",
              "    .dataframe thead th {\n",
              "        text-align: right;\n",
              "    }\n",
              "</style>\n",
              "<table border=\"1\" class=\"dataframe\">\n",
              "  <thead>\n",
              "    <tr style=\"text-align: right;\">\n",
              "      <th></th>\n",
              "      <th>id</th>\n",
              "      <th>followers</th>\n",
              "      <th>genres</th>\n",
              "      <th>name</th>\n",
              "      <th>popularity</th>\n",
              "    </tr>\n",
              "  </thead>\n",
              "  <tbody>\n",
              "    <tr>\n",
              "      <th>30758</th>\n",
              "      <td>112CaF6ayJD0CIe64FjhhX</td>\n",
              "      <td>106268.0</td>\n",
              "      <td>['italian pop']</td>\n",
              "      <td>Emma Muscat</td>\n",
              "      <td>46</td>\n",
              "    </tr>\n",
              "    <tr>\n",
              "      <th>30759</th>\n",
              "      <td>2cbWJP4X5b9sKEDW80uc5r</td>\n",
              "      <td>106107.0</td>\n",
              "      <td>['jazz metal', 'opera metal', 'steampunk', 'sw...</td>\n",
              "      <td>Diablo Swing Orchestra</td>\n",
              "      <td>46</td>\n",
              "    </tr>\n",
              "    <tr>\n",
              "      <th>30760</th>\n",
              "      <td>7iE2GZiF0xVFzlA2E93m3g</td>\n",
              "      <td>106065.0</td>\n",
              "      <td>['classic israeli pop', 'israeli rock']</td>\n",
              "      <td>Mashina</td>\n",
              "      <td>46</td>\n",
              "    </tr>\n",
              "    <tr>\n",
              "      <th>30761</th>\n",
              "      <td>6QR0aIEAemEigDCKjOVxe0</td>\n",
              "      <td>105743.0</td>\n",
              "      <td>['hypnosis mic', 'j-division']</td>\n",
              "      <td>ヒプノシスマイク -D.R.B- (Division All Stars)</td>\n",
              "      <td>46</td>\n",
              "    </tr>\n",
              "    <tr>\n",
              "      <th>30762</th>\n",
              "      <td>2WLmgv66Uq4vt2i36vwkAq</td>\n",
              "      <td>105632.0</td>\n",
              "      <td>['classic garage rock', 'death metal', 'gothen...</td>\n",
              "      <td>The Haunted</td>\n",
              "      <td>46</td>\n",
              "    </tr>\n",
              "  </tbody>\n",
              "</table>\n",
              "</div>"
            ],
            "text/plain": [
              "                           id  followers  \\\n",
              "30758  112CaF6ayJD0CIe64FjhhX   106268.0   \n",
              "30759  2cbWJP4X5b9sKEDW80uc5r   106107.0   \n",
              "30760  7iE2GZiF0xVFzlA2E93m3g   106065.0   \n",
              "30761  6QR0aIEAemEigDCKjOVxe0   105743.0   \n",
              "30762  2WLmgv66Uq4vt2i36vwkAq   105632.0   \n",
              "\n",
              "                                                  genres  \\\n",
              "30758                                    ['italian pop']   \n",
              "30759  ['jazz metal', 'opera metal', 'steampunk', 'sw...   \n",
              "30760            ['classic israeli pop', 'israeli rock']   \n",
              "30761                     ['hypnosis mic', 'j-division']   \n",
              "30762  ['classic garage rock', 'death metal', 'gothen...   \n",
              "\n",
              "                                        name  popularity  \n",
              "30758                            Emma Muscat          46  \n",
              "30759                 Diablo Swing Orchestra          46  \n",
              "30760                                Mashina          46  \n",
              "30761  ヒプノシスマイク -D.R.B- (Division All Stars)          46  \n",
              "30762                            The Haunted          46  "
            ]
          },
          "execution_count": 50,
          "metadata": {},
          "output_type": "execute_result"
        }
      ],
      "source": [
        "artists_new_index.loc[\n",
        "                      (artists_new_index['popularity']==46) &\n",
        "                      (artists_new_index['followers']>=105000) &\n",
        "                      (artists_new_index['followers']<107000),:\n",
        "                      ] # t=7:10\n",
        "\n"
      ]
    }
  ],
  "metadata": {
    "colab": {
      "provenance": []
    },
    "direction": "ltr",
    "kernelspec": {
      "display_name": "Python 3",
      "language": "python",
      "name": "python3"
    },
    "language_info": {
      "codemirror_mode": {
        "name": "ipython",
        "version": 3
      },
      "file_extension": ".py",
      "mimetype": "text/x-python",
      "name": "python",
      "nbconvert_exporter": "python",
      "pygments_lexer": "ipython3",
      "version": "3.10.5"
    }
  },
  "nbformat": 4,
  "nbformat_minor": 5
}
